{
 "cells": [
  {
   "cell_type": "code",
   "execution_count": 14,
   "id": "bb89892d-cf61-4ec7-b19c-3375e1f619bc",
   "metadata": {},
   "outputs": [
    {
     "name": "stderr",
     "output_type": "stream",
     "text": [
      "100%|███████████████████████████████████████████████████████████████████████████████████████████████████████████████████████| 17/17 [00:23<00:00,  1.36s/it]\n"
     ]
    }
   ],
   "source": [
    "from query_representation.query import *\n",
    "import os\n",
    "from tqdm import tqdm\n",
    "\n",
    "save_dir = '/mnt/adaptiveness_vs_learning/queries/ceb-imdb/'\n",
    "data_folders = \"queries/ceb-imdb/\"\n",
    "\n",
    "for folder in tqdm(os.listdir(data_folders)):\n",
    "    if '.' in folder:\n",
    "        continue\n",
    "    else:\n",
    "        for i, q in enumerate(os.listdir(data_folders + folder)):\n",
    "            qrep = load_qrep(data_folders+folder+'/'+q)\n",
    "            sql = qrep['sql']\n",
    "            name = f\"{folder}_{i}.sql\"\n",
    "            with open(save_dir + name, 'w') as f:\n",
    "                f.write(sql)\n",
    "        \n",
    "            \n",
    "            "
   ]
  },
  {
   "cell_type": "code",
   "execution_count": null,
   "id": "1aeeebba-1ea9-41e3-86aa-2305b86ea902",
   "metadata": {},
   "outputs": [],
   "source": []
  }
 ],
 "metadata": {
  "kernelspec": {
   "display_name": "Python 3 (ipykernel)",
   "language": "python",
   "name": "python3"
  },
  "language_info": {
   "codemirror_mode": {
    "name": "ipython",
    "version": 3
   },
   "file_extension": ".py",
   "mimetype": "text/x-python",
   "name": "python",
   "nbconvert_exporter": "python",
   "pygments_lexer": "ipython3",
   "version": "3.12.3"
  }
 },
 "nbformat": 4,
 "nbformat_minor": 5
}
