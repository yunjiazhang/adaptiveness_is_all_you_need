{
 "cells": [
  {
   "cell_type": "code",
   "execution_count": 1,
   "id": "c9ad1197-343e-4dcb-96ce-a060859840a5",
   "metadata": {
    "tags": []
   },
   "outputs": [],
   "source": [
    "%load_ext autoreload\n",
    "%autoreload 2\n",
    "PATH = '/mnt/adaptiveness_vs_learning/runtime_eval/'\n",
    "import sys\n",
    "sys.path.append(PATH)\n",
    "from core.eval_Runtime import *\n",
    "from core.QueryEvaluator import *"
   ]
  },
  {
   "cell_type": "code",
   "execution_count": 2,
   "id": "8fd373ca-c6ac-41d7-9117-5e796c4b4307",
   "metadata": {
    "tags": []
   },
   "outputs": [],
   "source": [
    "all_stats_queries_dir = './all/'\n",
    "all_stats_qureies = [q for q in os.listdir(all_stats_queries_dir) if q.endswith('.sql')]"
   ]
  },
  {
   "cell_type": "code",
   "execution_count": 3,
   "id": "163915be-bf00-483a-9bbd-87ea1187bb57",
   "metadata": {
    "tags": []
   },
   "outputs": [],
   "source": [
    "import sqlparse\n",
    "def sql_formater(sql):\n",
    "    return sqlparse.format(sql, reindent=True, keyword_case='upper')"
   ]
  },
  {
   "cell_type": "markdown",
   "id": "a0d8728a-3e8d-407d-8bfc-0bfd60bc4104",
   "metadata": {},
   "source": [
    "# Evaluate CEB"
   ]
  },
  {
   "cell_type": "code",
   "execution_count": null,
   "id": "a09f9159-cf81-473f-b866-f928b00eeffa",
   "metadata": {
    "tags": []
   },
   "outputs": [
    {
     "name": "stdout",
     "output_type": "stream",
     "text": [
      "Running queries:  ['32.sql', '145.sql', '103.sql', '132.sql', '74.sql', '18.sql', '11.sql', '67.sql', '61.sql', '31.sql', '60.sql', '116.sql', '15.sql', '39.sql', '23.sql', '62.sql', '106.sql', '130.sql', '107.sql', '26.sql', '69.sql', '146.sql', '75.sql', '120.sql', '30.sql', '133.sql', '54.sql', '111.sql', '108.sql', '121.sql', '68.sql', '127.sql', '7.sql', '59.sql', '25.sql', '35.sql', '134.sql', '42.sql', '126.sql', '92.sql', '63.sql', '101.sql', '129.sql', '109.sql', '82.sql', '96.sql', '44.sql', '6.sql', '135.sql', '34.sql', '79.sql', '24.sql', '48.sql', '65.sql', '137.sql', '29.sql', '98.sql', '138.sql', '19.sql', '89.sql', '76.sql', '119.sql', '87.sql', '10.sql', '88.sql', '47.sql', '16.sql', '38.sql', '12.sql', '78.sql', '144.sql', '55.sql', '73.sql', '45.sql', '3.sql', '115.sql', '94.sql', '4.sql', '20.sql', '13.sql', '52.sql', '97.sql', '21.sql', '14.sql', '83.sql', '2.sql', '100.sql', '124.sql', '114.sql', '17.sql', '81.sql', '85.sql', '50.sql', '141.sql', '84.sql', '90.sql', '53.sql', '104.sql', '123.sql', '51.sql', '41.sql', '64.sql', '112.sql', '58.sql', '1.sql', '118.sql', '5.sql', '91.sql', '140.sql', '66.sql', '93.sql', '86.sql', '139.sql', '70.sql', '131.sql', '102.sql', '143.sql', '46.sql', '43.sql', '105.sql', '49.sql', '71.sql', '36.sql', '22.sql', '110.sql', '33.sql', '113.sql', '8.sql', '27.sql', '125.sql', '142.sql', '28.sql', '128.sql', '37.sql', '99.sql', '136.sql', '40.sql', '122.sql', '72.sql', '56.sql', '95.sql', '80.sql', '77.sql', '9.sql', '117.sql', '57.sql', '.ipynb_checkpoints']\n",
      "SET ml_cardest_enabled=false;\n",
      "SET ml_joinest_enabled=true;\n",
      "SET join_est_no=0;\n",
      "SET ml_joinest_fname='stats_CEB_sub_queries_bayescard.txt';\n",
      "[('stats_CEB_sub_queries_bayescard.txt',)]\n",
      "Connected to the database successfully.\n",
      "Running query .ipynb_checkpoints (0 / 147)...\n",
      "Running query 1.sql (1 / 147)...\n",
      "\tQuery 1.sql executed successfully in 0.03 seconds.\n",
      "\tQuery 1.sql executed successfully in 0.02 seconds.\n",
      "\tQuery 1.sql executed successfully in 0.02 seconds.\n",
      "Running query 10.sql (2 / 147)...\n",
      "\tQuery 10.sql executed successfully in 0.11 seconds.\n",
      "\tQuery 10.sql executed successfully in 0.46 seconds.\n",
      "\tQuery 10.sql executed successfully in 0.11 seconds.\n",
      "Running query 100.sql (3 / 147)...\n",
      "\tQuery 100.sql executed successfully in 0.13 seconds.\n",
      "\tQuery 100.sql executed successfully in 0.13 seconds.\n",
      "\tQuery 100.sql executed successfully in 0.39 seconds.\n",
      "Running query 101.sql (4 / 147)...\n",
      "\tQuery 101.sql executed successfully in 0.28 seconds.\n",
      "\tQuery 101.sql executed successfully in 0.33 seconds.\n",
      "\tQuery 101.sql executed successfully in 0.20 seconds.\n",
      "Running query 102.sql (5 / 147)...\n",
      "\tQuery 102.sql executed successfully in 1.23 seconds.\n",
      "\tQuery 102.sql executed successfully in 1.02 seconds.\n",
      "\tQuery 102.sql executed successfully in 0.51 seconds.\n",
      "Running query 103.sql (6 / 147)...\n",
      "\tQuery 103.sql executed successfully in 1.08 seconds.\n",
      "\tQuery 103.sql executed successfully in 0.36 seconds.\n",
      "\tQuery 103.sql executed successfully in 0.35 seconds.\n",
      "Running query 104.sql (7 / 147)...\n"
     ]
    }
   ],
   "source": [
    "db_config = {\n",
    "    'dbname': 'stats',\n",
    "    'user': 'postgres',\n",
    "    'password': 'postgres',\n",
    "    'host': 'localhost',\n",
    "    'port': '5432'\n",
    "}\n",
    "\n",
    "query_directory = './all/'\n",
    "print(\"Running queries: \", os.listdir(query_directory))\n",
    "\n",
    "import sys\n",
    "ceb_file_name = sys.argv[1]\n",
    "\n",
    "# for ceb_file_name in [\n",
    "#     'stats_CEB_sub_queries_bayescard.txt',\n",
    "#     'stats_CEB_sub_queries_deepdb.txt',\n",
    "#     'stats_CEB_sub_queries_flat.txt',\n",
    "#     'stats_CEB_sub_queries_neurocard.txt'\n",
    "# ]:\n",
    "assert ceb_file_name in [ \n",
    "    'stats_CEB_sub_queries_bayescard.txt',\n",
    "    'stats_CEB_sub_queries_deepdb.txt',\n",
    "    'stats_CEB_sub_queries_flat.txt',\n",
    "    'stats_CEB_sub_queries_neurocard.txt'\n",
    "], \"You should provide a valide ceb_file_name\"\n",
    "\n",
    "evaluator = PostgresCEBQueryEvaluator(\n",
    "    db_config, \n",
    "    query_directory,                                   \n",
    "    debug_mode=False, \n",
    "    ceb_file_name=ceb_file_name\n",
    ")\n",
    "\n",
    "evaluator.run(\n",
    "    query_log_file = f'ceb-stats-{ceb_file_name.split(\".\")[0]}.json',\n",
    "    rerun_finished=False,\n",
    "    sample_size=None\n",
    ")"
   ]
  },
  {
   "cell_type": "code",
   "execution_count": 19,
   "id": "6a52d6ef-0fa1-4673-9c05-19d7dfda3860",
   "metadata": {
    "tags": []
   },
   "outputs": [
    {
     "name": "stdout",
     "output_type": "stream",
     "text": [
      "Stats slow total time:  3719.836777329445\n",
      "Stats rand total time:  149.78905951976776\n"
     ]
    }
   ],
   "source": [
    "# total_time = 0\n",
    "# for q in slow_queries:\n",
    "#     total_time += sorted_dict[q]\n",
    "# print(\"Stats slow total time: \", total_time)\n",
    "\n",
    "# total_time = 0\n",
    "# for q in random_queries:\n",
    "#     total_time += sorted_dict[q]\n",
    "# print(\"Stats rand total time: \", total_time)\n"
   ]
  },
  {
   "cell_type": "code",
   "execution_count": null,
   "id": "c562724e-9d89-4f2c-b6a6-541f5f712007",
   "metadata": {},
   "outputs": [],
   "source": []
  }
 ],
 "metadata": {
  "kernelspec": {
   "display_name": "Python 3 (ipykernel)",
   "language": "python",
   "name": "python3"
  },
  "language_info": {
   "codemirror_mode": {
    "name": "ipython",
    "version": 3
   },
   "file_extension": ".py",
   "mimetype": "text/x-python",
   "name": "python",
   "nbconvert_exporter": "python",
   "pygments_lexer": "ipython3",
   "version": "3.12.3"
  }
 },
 "nbformat": 4,
 "nbformat_minor": 5
}
