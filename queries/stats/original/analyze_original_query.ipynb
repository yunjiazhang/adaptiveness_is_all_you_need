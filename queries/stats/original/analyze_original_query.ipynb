{
 "cells": [
  {
   "cell_type": "code",
   "execution_count": 10,
   "id": "c9ad1197-343e-4dcb-96ce-a060859840a5",
   "metadata": {
    "tags": []
   },
   "outputs": [
    {
     "name": "stdout",
     "output_type": "stream",
     "text": [
      "The autoreload extension is already loaded. To reload it, use:\n",
      "  %reload_ext autoreload\n"
     ]
    }
   ],
   "source": [
    "%load_ext autoreload\n",
    "%autoreload 2\n",
    "PATH = '/mnt/adaptiveness_vs_learning/runtime_eval/'\n",
    "import sys\n",
    "sys.path.append(PATH)\n",
    "from core.eval_Runtime import *\n",
    "from core.QueryEvaluator import *"
   ]
  },
  {
   "cell_type": "code",
   "execution_count": 2,
   "id": "8fd373ca-c6ac-41d7-9117-5e796c4b4307",
   "metadata": {
    "tags": []
   },
   "outputs": [],
   "source": [
    "all_stats_queries_dir = './all/'\n",
    "all_stats_qureies = [q for q in os.listdir(all_stats_queries_dir) if q.endswith('.sql')]"
   ]
  },
  {
   "cell_type": "code",
   "execution_count": 3,
   "id": "163915be-bf00-483a-9bbd-87ea1187bb57",
   "metadata": {
    "tags": []
   },
   "outputs": [],
   "source": [
    "import sqlparse\n",
    "def sql_formater(sql):\n",
    "    return sqlparse.format(sql, reindent=True, keyword_case='upper')"
   ]
  },
  {
   "cell_type": "markdown",
   "id": "597cb423-fd5c-4cc9-9ce8-77f090a2fdc3",
   "metadata": {},
   "source": [
    "# Evaluate the original PG"
   ]
  },
  {
   "cell_type": "code",
   "execution_count": null,
   "id": "dcb32804-6db1-4d1b-aa33-54e3389ef157",
   "metadata": {},
   "outputs": [],
   "source": [
    "db_config = {\n",
    "    'dbname': 'stats',\n",
    "    'user': 'postgres',\n",
    "    'password': 'postgres',\n",
    "    'host': 'localhost',\n",
    "    'port': '5432'\n",
    "}\n",
    "\n",
    "query_directory = './all/'\n",
    "print(\"Running queries: \", os.listdir(query_directory))\n",
    "\n",
    "\n",
    "evaluator = PostgresQueryEvaluator(\n",
    "    db_config, \n",
    "    query_directory,                                   \n",
    "    debug_mode=False, \n",
    ")\n",
    "\n",
    "evaluator.run(\n",
    "    query_log_file = f'postgres-stats-{ceb_file_name.split(\".\")[0]}.json',\n",
    "    rerun_finished=False,\n",
    "    sample_size=None\n",
    ")"
   ]
  },
  {
   "cell_type": "code",
   "execution_count": null,
   "id": "417ba347-b16d-4538-8606-2f88341d522b",
   "metadata": {},
   "outputs": [],
   "source": []
  },
  {
   "cell_type": "code",
   "execution_count": null,
   "id": "7304aea9-72a7-4a4a-ae4c-fab3ebde02e3",
   "metadata": {},
   "outputs": [],
   "source": []
  },
  {
   "cell_type": "code",
   "execution_count": 19,
   "id": "6a52d6ef-0fa1-4673-9c05-19d7dfda3860",
   "metadata": {
    "tags": []
   },
   "outputs": [
    {
     "name": "stdout",
     "output_type": "stream",
     "text": [
      "Stats slow total time:  3719.836777329445\n",
      "Stats rand total time:  149.78905951976776\n"
     ]
    }
   ],
   "source": [
    "# total_time = 0\n",
    "# for q in slow_queries:\n",
    "#     total_time += sorted_dict[q]\n",
    "# print(\"Stats slow total time: \", total_time)\n",
    "\n",
    "# total_time = 0\n",
    "# for q in random_queries:\n",
    "#     total_time += sorted_dict[q]\n",
    "# print(\"Stats rand total time: \", total_time)\n"
   ]
  },
  {
   "cell_type": "code",
   "execution_count": 1,
   "id": "c562724e-9d89-4f2c-b6a6-541f5f712007",
   "metadata": {},
   "outputs": [],
   "source": [
    "import json\n",
    "import numpy as np\n",
    "\n",
    "runtime_stats = json.load(open(f'postgres-stats-non-parallel.json'))\n",
    "all_workload_runtime = 0\n",
    "for q in runtime_stats:\n",
    "    all_workload_runtime += np.average(runtime_stats[q])\n",
    "print(\"All workload runtime: \", all_workload_runtime)"
   ]
  },
  {
   "cell_type": "code",
   "execution_count": 2,
   "id": "cb599db8",
   "metadata": {},
   "outputs": [
    {
     "data": {
      "text/plain": [
       "14287.531854708988"
      ]
     },
     "execution_count": 2,
     "metadata": {},
     "output_type": "execute_result"
    }
   ],
   "source": []
  },
  {
   "cell_type": "code",
   "execution_count": null,
   "id": "f6bae6a3",
   "metadata": {},
   "outputs": [],
   "source": []
  }
 ],
 "metadata": {
  "kernelspec": {
   "display_name": "Python 3 (ipykernel)",
   "language": "python",
   "name": "python3"
  },
  "language_info": {
   "codemirror_mode": {
    "name": "ipython",
    "version": 3
   },
   "file_extension": ".py",
   "mimetype": "text/x-python",
   "name": "python",
   "nbconvert_exporter": "python",
   "pygments_lexer": "ipython3",
   "version": "3.9.19"
  }
 },
 "nbformat": 4,
 "nbformat_minor": 5
}
