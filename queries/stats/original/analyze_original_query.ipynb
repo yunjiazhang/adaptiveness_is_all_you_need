{
 "cells": [
  {
   "cell_type": "code",
   "execution_count": 10,
   "id": "c9ad1197-343e-4dcb-96ce-a060859840a5",
   "metadata": {
    "tags": []
   },
   "outputs": [],
   "source": [
    "# %load_ext autoreload\n",
    "# %autoreload 2\n",
    "PATH = '/mnt/workspace/adaptiveness_vs_learning/runtime_eval/'\n",
    "import sys\n",
    "sys.path.append(PATH)\n",
    "from core.eval_Runtime import *"
   ]
  },
  {
   "cell_type": "code",
   "execution_count": 11,
   "id": "8fd373ca-c6ac-41d7-9117-5e796c4b4307",
   "metadata": {
    "tags": []
   },
   "outputs": [],
   "source": [
    "query_dirs = {\n",
    "    'pg_stats_all': '/mnt/adaptiveness_vs_learning/queries/stats/original/all/',\n",
    "}\n",
    "\n",
    "stats_all_queries = [f'{i+1}.sql' for i in range(146)]\n",
    "\n",
    "job_slow_queries = [\n",
    "    '16b.sql', '17a.sql', '17e.sql', '17f.sql', '17b.sql', '19d.sql', '17d.sql',\n",
    "    '17c.sql', '10c.sql', '26c.sql', '25c.sql', '6d.sql', '6f.sql', '8c.sql',\n",
    "    '18c.sql', '9d.sql', '30a.sql', '19c.sql', '20a.sql'\n",
    "]\n",
    "\n",
    "job_rand_queries = [\n",
    "    '8a.sql', '16a.sql', '2a.sql', '30c.sql', '17e.sql', '20a.sql', '26b.sql',\n",
    "    '12b.sql', '15b.sql', '15d.sql', '10b.sql', '15a.sql', '4c.sql', '4b.sql',\n",
    "    '22b.sql', '17c.sql', '24b.sql', '10a.sql', '22c.sql'\n",
    "]\n",
    "\n",
    "all_JOB_queries = [\n",
    "    '30a.sql', '1d.sql', '25a.sql', '6b.sql', '19c.sql', '28b.sql', \n",
    "    '9b.sql', '33b.sql', '32a.sql', '27a.sql', '20b.sql', '17d.sql', \n",
    "    '16b.sql', '10b.sql', '6a.sql', '17b.sql', '25b.sql', '8b.sql', \n",
    "    '31b.sql', '33c.sql', '23a.sql', '15a.sql', '21b.sql', '11d.sql', \n",
    "    '9a.sql', '6d.sql', '24a.sql', '17e.sql', '19a.sql', '1c.sql', \n",
    "    '25c.sql', '31a.sql', '23c.sql', '17f.sql', '19b.sql', '9d.sql', \n",
    "    '27b.sql', '11b.sql', '7b.sql', '19d.sql', '1a.sql', '11c.sql', \n",
    "    '31c.sql', '28a.sql', '3c.sql', '6c.sql', '26b.sql', '16a.sql', \n",
    "    '7a.sql', '29b.sql', '29a.sql', '1b.sql', '6e.sql', '13d.sql', \n",
    "    '10c.sql', '26a.sql', '4b.sql', '10a.sql', '15b.sql', '15d.sql', \n",
    "    '26c.sql', '14b.sql', '15c.sql', '14c.sql', '13b.sql', '3a.sql', \n",
    "    '24b.sql', '5a.sql', '8c.sql', '6f.sql', '8a.sql', '27c.sql', \n",
    "    '12a.sql', '22a.sql', '17a.sql', '13a.sql', '21a.sql', '12b.sql', \n",
    "    '13c.sql', '8d.sql', '21c.sql', '7c.sql', '2a.sql', '3b.sql', \n",
    "    '16c.sql', '9c.sql', '32b.sql', '28c.sql', '33a.sql', '11a.sql', \n",
    "    '18a.sql', '5c.sql', '22d.sql', '18c.sql', '5b.sql', '2c.sql', \n",
    "    '16d.sql', '4a.sql', '22c.sql', '12c.sql', '29c.sql', '30b.sql', \n",
    "    '2d.sql', '14a.sql', '17c.sql', '22b.sql', '30c.sql', '20a.sql', \n",
    "    '20c.sql', '2b.sql', '4c.sql', '18b.sql', '23b.sql'\n",
    "]"
   ]
  },
  {
   "cell_type": "code",
   "execution_count": 12,
   "id": "163915be-bf00-483a-9bbd-87ea1187bb57",
   "metadata": {
    "tags": []
   },
   "outputs": [],
   "source": [
    "import sqlparse\n",
    "\n",
    "def sql_formater(sql):\n",
    "    return sqlparse.format(sql, reindent=True, keyword_case='upper')"
   ]
  },
  {
   "cell_type": "code",
   "execution_count": 13,
   "id": "a09f9159-cf81-473f-b866-f928b00eeffa",
   "metadata": {
    "collapsed": true,
    "jupyter": {
     "outputs_hidden": true
    },
    "tags": []
   },
   "outputs": [
    {
     "ename": "OperationalError",
     "evalue": "FATAL:  role \"postgres\" does not exist\n",
     "output_type": "error",
     "traceback": [
      "\u001b[0;31m---------------------------------------------------------------------------\u001b[0m",
      "\u001b[0;31mOperationalError\u001b[0m                          Traceback (most recent call last)",
      "\u001b[0;32m/tmp/ipykernel_213887/3711135882.py\u001b[0m in \u001b[0;36m<module>\u001b[0;34m\u001b[0m\n\u001b[1;32m      4\u001b[0m \u001b[0mrun_queries\u001b[0m \u001b[0;34m=\u001b[0m \u001b[0mstats_all_queries\u001b[0m\u001b[0;34m\u001b[0m\u001b[0;34m\u001b[0m\u001b[0m\n\u001b[1;32m      5\u001b[0m \u001b[0;34m\u001b[0m\u001b[0m\n\u001b[0;32m----> 6\u001b[0;31m \u001b[0mpg_db\u001b[0m \u001b[0;34m=\u001b[0m \u001b[0mDB_instance\u001b[0m\u001b[0;34m(\u001b[0m\u001b[0mengine_name\u001b[0m\u001b[0;34m,\u001b[0m \u001b[0mdb_name\u001b[0m\u001b[0;34m)\u001b[0m\u001b[0;34m\u001b[0m\u001b[0;34m\u001b[0m\u001b[0m\n\u001b[0m\u001b[1;32m      7\u001b[0m \u001b[0mpg_ev\u001b[0m \u001b[0;34m=\u001b[0m \u001b[0mRuntime_Evaluator\u001b[0m\u001b[0;34m(\u001b[0m\u001b[0mpg_db\u001b[0m\u001b[0;34m,\u001b[0m \u001b[0mquery_dir\u001b[0m\u001b[0;34m)\u001b[0m\u001b[0;34m\u001b[0m\u001b[0;34m\u001b[0m\u001b[0m\n\u001b[1;32m      8\u001b[0m pg_ev.evaluate_queries(\n",
      "\u001b[0;32m/mnt/workspace/adaptiveness_vs_learning/runtime_eval/core/DB_connector.py\u001b[0m in \u001b[0;36m__init__\u001b[0;34m(self, engine_name, db_name)\u001b[0m\n\u001b[1;32m    425\u001b[0m         \u001b[0mself\u001b[0m\u001b[0;34m.\u001b[0m\u001b[0mdb_name\u001b[0m \u001b[0;34m=\u001b[0m \u001b[0mdb_name\u001b[0m\u001b[0;34m\u001b[0m\u001b[0;34m\u001b[0m\u001b[0m\n\u001b[1;32m    426\u001b[0m         \u001b[0;32mif\u001b[0m \u001b[0mengine_name\u001b[0m \u001b[0;34m==\u001b[0m \u001b[0;34m'postgres'\u001b[0m\u001b[0;34m:\u001b[0m\u001b[0;34m\u001b[0m\u001b[0;34m\u001b[0m\u001b[0m\n\u001b[0;32m--> 427\u001b[0;31m             \u001b[0mself\u001b[0m\u001b[0;34m.\u001b[0m\u001b[0mconnector\u001b[0m \u001b[0;34m=\u001b[0m \u001b[0mPostgres_Connector\u001b[0m\u001b[0;34m(\u001b[0m\u001b[0mdb_name\u001b[0m\u001b[0;34m=\u001b[0m\u001b[0mdb_name\u001b[0m\u001b[0;34m)\u001b[0m\u001b[0;34m\u001b[0m\u001b[0;34m\u001b[0m\u001b[0m\n\u001b[0m\u001b[1;32m    428\u001b[0m         \u001b[0;32melif\u001b[0m \u001b[0mengine_name\u001b[0m \u001b[0;34m==\u001b[0m \u001b[0;34m'postgres_pg_lip'\u001b[0m\u001b[0;34m:\u001b[0m\u001b[0;34m\u001b[0m\u001b[0;34m\u001b[0m\u001b[0m\n\u001b[1;32m    429\u001b[0m             \u001b[0mself\u001b[0m\u001b[0;34m.\u001b[0m\u001b[0mconnector\u001b[0m \u001b[0;34m=\u001b[0m \u001b[0mPG_LIP_Connector\u001b[0m\u001b[0;34m(\u001b[0m\u001b[0mdb_name\u001b[0m\u001b[0;34m=\u001b[0m\u001b[0mdb_name\u001b[0m\u001b[0;34m)\u001b[0m\u001b[0;34m\u001b[0m\u001b[0;34m\u001b[0m\u001b[0m\n",
      "\u001b[0;32m/mnt/workspace/adaptiveness_vs_learning/runtime_eval/core/DB_connector.py\u001b[0m in \u001b[0;36m__init__\u001b[0;34m(self, server, username, password, db_name)\u001b[0m\n\u001b[1;32m     30\u001b[0m         \u001b[0;32mif\u001b[0m \u001b[0mdb_name\u001b[0m\u001b[0;34m:\u001b[0m\u001b[0;34m\u001b[0m\u001b[0;34m\u001b[0m\u001b[0m\n\u001b[1;32m     31\u001b[0m             \u001b[0mself\u001b[0m\u001b[0;34m.\u001b[0m\u001b[0mdb_url\u001b[0m \u001b[0;34m=\u001b[0m \u001b[0;34mf\"host={server} port=5432 user={username} dbname={db_name} password={password} options='-c statement_timeout={6000000}' \"\u001b[0m\u001b[0;34m\u001b[0m\u001b[0;34m\u001b[0m\u001b[0m\n\u001b[0;32m---> 32\u001b[0;31m             \u001b[0mself\u001b[0m\u001b[0;34m.\u001b[0m\u001b[0minit_db\u001b[0m\u001b[0;34m(\u001b[0m\u001b[0mdb_name\u001b[0m\u001b[0;34m)\u001b[0m\u001b[0;34m\u001b[0m\u001b[0;34m\u001b[0m\u001b[0m\n\u001b[0m\u001b[1;32m     33\u001b[0m \u001b[0;34m\u001b[0m\u001b[0m\n\u001b[1;32m     34\u001b[0m     \u001b[0;32mdef\u001b[0m \u001b[0m_reset_connection\u001b[0m\u001b[0;34m(\u001b[0m\u001b[0mself\u001b[0m\u001b[0;34m,\u001b[0m\u001b[0;34m)\u001b[0m\u001b[0;34m:\u001b[0m\u001b[0;34m\u001b[0m\u001b[0;34m\u001b[0m\u001b[0m\n",
      "\u001b[0;32m/mnt/workspace/adaptiveness_vs_learning/runtime_eval/core/DB_connector.py\u001b[0m in \u001b[0;36minit_db\u001b[0;34m(self, db_name)\u001b[0m\n\u001b[1;32m     41\u001b[0m     \u001b[0;32mdef\u001b[0m \u001b[0minit_db\u001b[0m\u001b[0;34m(\u001b[0m\u001b[0mself\u001b[0m\u001b[0;34m,\u001b[0m \u001b[0mdb_name\u001b[0m\u001b[0;34m)\u001b[0m\u001b[0;34m:\u001b[0m\u001b[0;34m\u001b[0m\u001b[0;34m\u001b[0m\u001b[0m\n\u001b[1;32m     42\u001b[0m         \u001b[0mdb\u001b[0m \u001b[0;34m=\u001b[0m \u001b[0mself\u001b[0m\u001b[0;34m.\u001b[0m\u001b[0mdb_url\u001b[0m\u001b[0;34m.\u001b[0m\u001b[0mformat\u001b[0m\u001b[0;34m(\u001b[0m\u001b[0mdb_name\u001b[0m\u001b[0;34m)\u001b[0m\u001b[0;34m\u001b[0m\u001b[0;34m\u001b[0m\u001b[0m\n\u001b[0;32m---> 43\u001b[0;31m         \u001b[0mPG\u001b[0m \u001b[0;34m=\u001b[0m \u001b[0mPostgres\u001b[0m\u001b[0;34m(\u001b[0m\u001b[0mdb\u001b[0m\u001b[0;34m)\u001b[0m\u001b[0;34m\u001b[0m\u001b[0;34m\u001b[0m\u001b[0m\n\u001b[0m\u001b[1;32m     44\u001b[0m         \u001b[0mself\u001b[0m\u001b[0;34m.\u001b[0m\u001b[0mdb\u001b[0m \u001b[0;34m=\u001b[0m \u001b[0mPG\u001b[0m\u001b[0;34m\u001b[0m\u001b[0;34m\u001b[0m\u001b[0m\n\u001b[1;32m     45\u001b[0m         \u001b[0;32mreturn\u001b[0m \u001b[0mPG\u001b[0m\u001b[0;34m\u001b[0m\u001b[0;34m\u001b[0m\u001b[0m\n",
      "\u001b[0;32m/mnt/workspace/adaptiveness_vs_learning/runtime_eval/core/cardinality_estimation_quality/cardinality_estimation_quality.py\u001b[0m in \u001b[0;36m__init__\u001b[0;34m(self, pg_url)\u001b[0m\n\u001b[1;32m     36\u001b[0m \u001b[0;34m\u001b[0m\u001b[0m\n\u001b[1;32m     37\u001b[0m     \u001b[0;32mdef\u001b[0m \u001b[0m__init__\u001b[0m\u001b[0;34m(\u001b[0m\u001b[0mself\u001b[0m\u001b[0;34m,\u001b[0m \u001b[0mpg_url\u001b[0m\u001b[0;34m)\u001b[0m\u001b[0;34m:\u001b[0m\u001b[0;34m\u001b[0m\u001b[0;34m\u001b[0m\u001b[0m\n\u001b[0;32m---> 38\u001b[0;31m         \u001b[0mself\u001b[0m\u001b[0;34m.\u001b[0m\u001b[0m_connection\u001b[0m \u001b[0;34m=\u001b[0m \u001b[0mpsycopg2\u001b[0m\u001b[0;34m.\u001b[0m\u001b[0mconnect\u001b[0m\u001b[0;34m(\u001b[0m\u001b[0mpg_url\u001b[0m\u001b[0;34m)\u001b[0m\u001b[0;34m\u001b[0m\u001b[0;34m\u001b[0m\u001b[0m\n\u001b[0m\u001b[1;32m     39\u001b[0m         \u001b[0mself\u001b[0m\u001b[0;34m.\u001b[0m\u001b[0mexecute\u001b[0m\u001b[0;34m\u001b[0m\u001b[0;34m\u001b[0m\u001b[0m\n\u001b[1;32m     40\u001b[0m \u001b[0;34m\u001b[0m\u001b[0m\n",
      "\u001b[0;32m~/anaconda3/envs/balsa/lib/python3.7/site-packages/psycopg2/__init__.py\u001b[0m in \u001b[0;36mconnect\u001b[0;34m(dsn, connection_factory, cursor_factory, **kwargs)\u001b[0m\n\u001b[1;32m    125\u001b[0m \u001b[0;34m\u001b[0m\u001b[0m\n\u001b[1;32m    126\u001b[0m     \u001b[0mdsn\u001b[0m \u001b[0;34m=\u001b[0m \u001b[0m_ext\u001b[0m\u001b[0;34m.\u001b[0m\u001b[0mmake_dsn\u001b[0m\u001b[0;34m(\u001b[0m\u001b[0mdsn\u001b[0m\u001b[0;34m,\u001b[0m \u001b[0;34m**\u001b[0m\u001b[0mkwargs\u001b[0m\u001b[0;34m)\u001b[0m\u001b[0;34m\u001b[0m\u001b[0;34m\u001b[0m\u001b[0m\n\u001b[0;32m--> 127\u001b[0;31m     \u001b[0mconn\u001b[0m \u001b[0;34m=\u001b[0m \u001b[0m_connect\u001b[0m\u001b[0;34m(\u001b[0m\u001b[0mdsn\u001b[0m\u001b[0;34m,\u001b[0m \u001b[0mconnection_factory\u001b[0m\u001b[0;34m=\u001b[0m\u001b[0mconnection_factory\u001b[0m\u001b[0;34m,\u001b[0m \u001b[0;34m**\u001b[0m\u001b[0mkwasync\u001b[0m\u001b[0;34m)\u001b[0m\u001b[0;34m\u001b[0m\u001b[0;34m\u001b[0m\u001b[0m\n\u001b[0m\u001b[1;32m    128\u001b[0m     \u001b[0;32mif\u001b[0m \u001b[0mcursor_factory\u001b[0m \u001b[0;32mis\u001b[0m \u001b[0;32mnot\u001b[0m \u001b[0;32mNone\u001b[0m\u001b[0;34m:\u001b[0m\u001b[0;34m\u001b[0m\u001b[0;34m\u001b[0m\u001b[0m\n\u001b[1;32m    129\u001b[0m         \u001b[0mconn\u001b[0m\u001b[0;34m.\u001b[0m\u001b[0mcursor_factory\u001b[0m \u001b[0;34m=\u001b[0m \u001b[0mcursor_factory\u001b[0m\u001b[0;34m\u001b[0m\u001b[0;34m\u001b[0m\u001b[0m\n",
      "\u001b[0;31mOperationalError\u001b[0m: FATAL:  role \"postgres\" does not exist\n"
     ]
    }
   ],
   "source": [
    "engine_name = 'postgres'\n",
    "db_name = 'stats'\n",
    "query_dir = query_dirs['pg_stats_all']\n",
    "run_queries = stats_all_queries\n",
    "\n",
    "pg_db = DB_instance(engine_name, db_name)\n",
    "pg_ev = Runtime_Evaluator(pg_db, query_dir)\n",
    "pg_ev.evaluate_queries(\n",
    "    sql_dir=query_dir,\n",
    "    sql_files=run_queries,\n",
    "    save_json_file=f'./{engine_name}_{db_name}_runtimes.json', \n",
    "    rerun_finished=False,\n",
    "    disable_op=\"mergejoin\",\n",
    "    disable_parallel=False,\n",
    "    multiple_runs=2,\n",
    "    save_plan=False,\n",
    "    timeout=6000\n",
    ")"
   ]
  },
  {
   "cell_type": "code",
   "execution_count": 14,
   "id": "d10ba863-ec86-42a3-be9e-8a7928d720cf",
   "metadata": {
    "tags": []
   },
   "outputs": [],
   "source": [
    "import json\n",
    "runtimes = json.load(open(\"./postgres_stats_runtimes.json\", 'r'))"
   ]
  },
  {
   "cell_type": "code",
   "execution_count": 15,
   "id": "c66fb0c7-17ea-4cbc-8251-9614eed79cf8",
   "metadata": {
    "tags": []
   },
   "outputs": [],
   "source": [
    "import numpy as np\n",
    "runtimes = {q_name: np.average(runtimes[q_name]) for q_name in runtimes}"
   ]
  },
  {
   "cell_type": "code",
   "execution_count": 16,
   "id": "b3becce0-58da-4b51-9b49-116661e009cc",
   "metadata": {
    "tags": []
   },
   "outputs": [
    {
     "data": {
      "text/plain": [
       "{'120.sql': 1171.0060594081879,\n",
       " '122.sql': 1168.602886557579,\n",
       " '58.sql': 683.7813885211945,\n",
       " '68.sql': 197.63556325435638,\n",
       " '126.sql': 115.9788978099823,\n",
       " '135.sql': 85.27042031288147,\n",
       " '123.sql': 36.16596233844757,\n",
       " '34.sql': 23.672454237937927,\n",
       " '108.sql': 23.4297114610672,\n",
       " '70.sql': 22.929199695587158,\n",
       " '136.sql': 22.246567487716675,\n",
       " '107.sql': 21.98565983772278,\n",
       " '69.sql': 19.055569171905518,\n",
       " '134.sql': 12.232121229171753,\n",
       " '141.sql': 12.006289601325989,\n",
       " '143.sql': 11.994443655014038,\n",
       " '30.sql': 11.568493366241455,\n",
       " '71.sql': 11.406644463539124,\n",
       " '142.sql': 10.489479899406433,\n",
       " '52.sql': 9.78620457649231,\n",
       " '140.sql': 8.890093564987183,\n",
       " '105.sql': 7.292656660079956,\n",
       " '51.sql': 6.92228376865387,\n",
       " '56.sql': 4.747513651847839,\n",
       " '138.sql': 4.548211216926575,\n",
       " '59.sql': 4.339902877807617,\n",
       " '38.sql': 4.157012939453125,\n",
       " '115.sql': 3.9005972146987915,\n",
       " '49.sql': 3.794488549232483,\n",
       " '104.sql': 2.8248780965805054,\n",
       " '47.sql': 2.7569940090179443,\n",
       " '97.sql': 2.244305968284607,\n",
       " '113.sql': 2.2116072177886963,\n",
       " '2.sql': 1.965406894683838,\n",
       " '50.sql': 1.830222487449646,\n",
       " '114.sql': 1.8004133701324463,\n",
       " '98.sql': 1.6669074296951294,\n",
       " '60.sql': 1.6606743335723877,\n",
       " '131.sql': 1.639878511428833,\n",
       " '74.sql': 1.5544772148132324,\n",
       " '5.sql': 1.5438514947891235,\n",
       " '77.sql': 1.4531831741333008,\n",
       " '119.sql': 1.3664811849594116,\n",
       " '39.sql': 1.3395450115203857,\n",
       " '132.sql': 1.294800877571106,\n",
       " '144.sql': 1.183785319328308,\n",
       " '106.sql': 0.9107558727264404,\n",
       " '32.sql': 0.9035553932189941,\n",
       " '31.sql': 0.8058983087539673,\n",
       " '133.sql': 0.7137506008148193,\n",
       " '35.sql': 0.6991727352142334,\n",
       " '28.sql': 0.6564415693283081,\n",
       " '22.sql': 0.49586963653564453,\n",
       " '43.sql': 0.48616206645965576,\n",
       " '116.sql': 0.4769587516784668,\n",
       " '85.sql': 0.4675556421279907,\n",
       " '84.sql': 0.4603782892227173,\n",
       " '95.sql': 0.4380229711532593,\n",
       " '88.sql': 0.43402326107025146,\n",
       " '15.sql': 0.43035364151000977,\n",
       " '91.sql': 0.40142500400543213,\n",
       " '75.sql': 0.3901064395904541,\n",
       " '3.sql': 0.3574601411819458,\n",
       " '124.sql': 0.3481478691101074,\n",
       " '129.sql': 0.34729766845703125,\n",
       " '4.sql': 0.3444281816482544,\n",
       " '79.sql': 0.34147000312805176,\n",
       " '73.sql': 0.340340256690979,\n",
       " '72.sql': 0.3300286531448364,\n",
       " '96.sql': 0.3252607583999634,\n",
       " '66.sql': 0.31450390815734863,\n",
       " '145.sql': 0.29090189933776855,\n",
       " '139.sql': 0.28964030742645264,\n",
       " '111.sql': 0.27008092403411865,\n",
       " '127.sql': 0.2643195390701294,\n",
       " '112.sql': 0.2638232707977295,\n",
       " '64.sql': 0.2612713575363159,\n",
       " '46.sql': 0.24256622791290283,\n",
       " '146.sql': 0.23960983753204346,\n",
       " '128.sql': 0.23927080631256104,\n",
       " '37.sql': 0.22775888442993164,\n",
       " '110.sql': 0.2214125394821167,\n",
       " '7.sql': 0.21874785423278809,\n",
       " '109.sql': 0.21838665008544922,\n",
       " '103.sql': 0.21737849712371826,\n",
       " '53.sql': 0.20952844619750977,\n",
       " '137.sql': 0.20601093769073486,\n",
       " '42.sql': 0.20293593406677246,\n",
       " '102.sql': 0.19741177558898926,\n",
       " '89.sql': 0.19668757915496826,\n",
       " '6.sql': 0.18418455123901367,\n",
       " '8.sql': 0.18301784992218018,\n",
       " '83.sql': 0.17506659030914307,\n",
       " '76.sql': 0.17062699794769287,\n",
       " '44.sql': 0.17018723487854004,\n",
       " '9.sql': 0.15907680988311768,\n",
       " '86.sql': 0.15430784225463867,\n",
       " '82.sql': 0.15188515186309814,\n",
       " '118.sql': 0.15127694606781006,\n",
       " '61.sql': 0.14636766910552979,\n",
       " '101.sql': 0.1459789276123047,\n",
       " '99.sql': 0.14504241943359375,\n",
       " '90.sql': 0.1429673433303833,\n",
       " '93.sql': 0.12598884105682373,\n",
       " '121.sql': 0.11676573753356934,\n",
       " '12.sql': 0.1167529821395874,\n",
       " '78.sql': 0.11532270908355713,\n",
       " '117.sql': 0.1145622730255127,\n",
       " '20.sql': 0.10966241359710693,\n",
       " '29.sql': 0.10593831539154053,\n",
       " '94.sql': 0.10292243957519531,\n",
       " '80.sql': 0.10241436958312988,\n",
       " '100.sql': 0.10172641277313232,\n",
       " '92.sql': 0.09983348846435547,\n",
       " '87.sql': 0.0933079719543457,\n",
       " '130.sql': 0.08045697212219238,\n",
       " '125.sql': 0.0781090259552002,\n",
       " '25.sql': 0.07420146465301514,\n",
       " '65.sql': 0.07344281673431396,\n",
       " '63.sql': 0.07231104373931885,\n",
       " '10.sql': 0.06992077827453613,\n",
       " '62.sql': 0.06663227081298828,\n",
       " '48.sql': 0.06640768051147461,\n",
       " '21.sql': 0.0639183521270752,\n",
       " '81.sql': 0.06180310249328613,\n",
       " '13.sql': 0.06108593940734863,\n",
       " '11.sql': 0.05999422073364258,\n",
       " '16.sql': 0.059659719467163086,\n",
       " '26.sql': 0.05750155448913574,\n",
       " '23.sql': 0.049840569496154785,\n",
       " '40.sql': 0.04847526550292969,\n",
       " '18.sql': 0.04631173610687256,\n",
       " '36.sql': 0.03701424598693848,\n",
       " '27.sql': 0.0353161096572876,\n",
       " '57.sql': 0.03414607048034668,\n",
       " '17.sql': 0.03350389003753662,\n",
       " '33.sql': 0.03242015838623047,\n",
       " '45.sql': 0.02817821502685547,\n",
       " '1.sql': 0.02683842182159424,\n",
       " '19.sql': 0.02502763271331787,\n",
       " '24.sql': 0.02078855037689209,\n",
       " '14.sql': 0.019249796867370605,\n",
       " '67.sql': 0.019050240516662598,\n",
       " '55.sql': 0.017251014709472656,\n",
       " '54.sql': 0.015513181686401367,\n",
       " '41.sql': 0.013548016548156738}"
      ]
     },
     "execution_count": 16,
     "metadata": {},
     "output_type": "execute_result"
    }
   ],
   "source": [
    "sorted_dict = dict(sorted(runtimes.items(), key=lambda item: -item[1]))\n",
    "sorted_dict"
   ]
  },
  {
   "cell_type": "code",
   "execution_count": 17,
   "id": "e509feac-8a67-473f-97c3-075279540ec6",
   "metadata": {
    "tags": []
   },
   "outputs": [],
   "source": [
    "query_num = len(sorted_dict)\n",
    "query_set_num = int(0.2*query_num)\n",
    "slow_queries = list(sorted_dict.keys())[:query_set_num]\n",
    "\n",
    "# import random\n",
    "# random.seed(0)\n",
    "# random_queries = random.sample(list(sorted_dict.keys()), query_set_num)\n",
    "random_queries = ['44.sql', '145.sql', '128.sql', '99.sql', '23.sql', '101.sql', '7.sql', '5.sql', '17.sql', '116.sql', '67.sql', '119.sql', '69.sql', '94.sql', '135.sql', '107.sql', '3.sql', '103.sql', '78.sql', '83.sql', '25.sql', '118.sql', '26.sql', '129.sql', '37.sql', '87.sql', '38.sql', '142.sql', '113.sql']"
   ]
  },
  {
   "cell_type": "code",
   "execution_count": 18,
   "id": "2fbbf7f8-ee21-468c-8662-265c13237b15",
   "metadata": {
    "tags": []
   },
   "outputs": [],
   "source": [
    "import os\n",
    "\n",
    "for q in random_queries:\n",
    "    os.system(f'cp ./all/{q} ./stats_rand/')\n",
    "    with open(f'./stats_rand/{q}', 'r') as f:\n",
    "        sql = f.read()\n",
    "    sql = sql_formater(sql)\n",
    "    with open(f'./stats_rand/{q}', 'w') as g:\n",
    "        g.write(sql)\n",
    "\n",
    "for q in stats_all_queries:\n",
    "    with open(f'./all/{q}', 'r') as f:\n",
    "        sql = f.read()\n",
    "        \n",
    "    sql = sql_formater(sql)\n",
    "    if q in random_queries:\n",
    "        with open(f'./balsa_stats_rand/t{q}', 'w') as g:\n",
    "            g.write(sql)\n",
    "    else:\n",
    "        with open(f'./balsa_stats_rand/{q}', 'w') as g:\n",
    "            g.write(sql)\n",
    "        \n",
    "for q in slow_queries:\n",
    "    os.system(f'cp ./all/{q} ./stats_slow/')\n",
    "    with open(f'./stats_slow/{q}', 'r') as f:\n",
    "        sql = f.read()\n",
    "    sql = sql_formater(sql)\n",
    "    with open(f'./stats_slow/{q}', 'w') as g:\n",
    "        g.write(sql)\n",
    "\n",
    "for q in stats_all_queries:\n",
    "    with open(f'./all/{q}', 'r') as f:\n",
    "        sql = f.read()\n",
    "    sql = sql_formater(sql)\n",
    "    if q in slow_queries:\n",
    "        with open(f'./balsa_stats_slow/t{q}', 'w') as g:\n",
    "            g.write(sql)\n",
    "    else:\n",
    "        with open(f'./balsa_stats_slow/{q}', 'w') as g:\n",
    "            g.write(sql)"
   ]
  },
  {
   "cell_type": "code",
   "execution_count": 19,
   "id": "6a52d6ef-0fa1-4673-9c05-19d7dfda3860",
   "metadata": {
    "tags": []
   },
   "outputs": [
    {
     "name": "stdout",
     "output_type": "stream",
     "text": [
      "Stats slow total time:  3719.836777329445\n",
      "Stats rand total time:  149.78905951976776\n"
     ]
    }
   ],
   "source": [
    "total_time = 0\n",
    "for q in slow_queries:\n",
    "    total_time += sorted_dict[q]\n",
    "print(\"Stats slow total time: \", total_time)\n",
    "\n",
    "total_time = 0\n",
    "for q in random_queries:\n",
    "    total_time += sorted_dict[q]\n",
    "print(\"Stats rand total time: \", total_time)\n"
   ]
  },
  {
   "cell_type": "code",
   "execution_count": null,
   "id": "c562724e-9d89-4f2c-b6a6-541f5f712007",
   "metadata": {},
   "outputs": [],
   "source": []
  }
 ],
 "metadata": {
  "kernelspec": {
   "display_name": "balsa",
   "language": "python",
   "name": "balsa"
  },
  "language_info": {
   "codemirror_mode": {
    "name": "ipython",
    "version": 3
   },
   "file_extension": ".py",
   "mimetype": "text/x-python",
   "name": "python",
   "nbconvert_exporter": "python",
   "pygments_lexer": "ipython3",
   "version": "3.7.16"
  }
 },
 "nbformat": 4,
 "nbformat_minor": 5
}
