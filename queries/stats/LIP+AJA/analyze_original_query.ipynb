{
 "cells": [
  {
   "cell_type": "code",
   "execution_count": 1,
   "id": "c9ad1197-343e-4dcb-96ce-a060859840a5",
   "metadata": {
    "tags": []
   },
   "outputs": [],
   "source": [
    "%load_ext autoreload\n",
    "%autoreload 2\n",
    "\n",
    "PATH = '/mnt/workspace/adaptiveness_vs_learning/runtime_eval/'\n",
    "# PATH = '/mnt/adaptiveness_vs_learning/runtime_eval/'\n",
    "import sys\n",
    "sys.path.append(PATH)\n",
    "from core.eval_Runtime import *"
   ]
  },
  {
   "cell_type": "code",
   "execution_count": 2,
   "id": "8fd373ca-c6ac-41d7-9117-5e796c4b4307",
   "metadata": {
    "tags": []
   },
   "outputs": [],
   "source": [
    "query_dirs = {\n",
    "    'pg_stats_all': '/mnt/adaptiveness_vs_learning/queries/stats/original/all/',\n",
    "    'pg_stats_lip+aja_slow': '/mnt/adaptiveness_vs_learning/queries/stats/LIP+AJA/stats_slow/',\n",
    "}\n",
    "\n",
    "stats_all_queries = [f'{i+1}.sql' for i in range(146)]\n",
    "stats_slow_queries = ['105.sql',\n",
    " '107.sql',\n",
    " '108.sql',\n",
    " '115.sql',\n",
    " '120.sql',\n",
    " '122.sql',\n",
    " '123.sql',\n",
    " '126.sql',\n",
    " '134.sql',\n",
    " '135.sql',\n",
    " '136.sql',\n",
    " '138.sql',\n",
    " '140.sql',\n",
    " '141.sql',\n",
    " '142.sql',\n",
    " '143.sql',\n",
    " '30.sql',\n",
    " '34.sql',\n",
    " '38.sql',\n",
    " '49.sql',\n",
    " '51.sql',\n",
    " '52.sql',\n",
    " '56.sql',\n",
    " '58.sql',\n",
    " '59.sql',\n",
    " '68.sql',\n",
    " '69.sql',\n",
    " '70.sql',\n",
    " '71.sql']\n",
    "stats_rand_queries = [q for q in os.listdir('./stats_rand/') if '.sql' in q]"
   ]
  },
  {
   "cell_type": "code",
   "execution_count": 3,
   "id": "163915be-bf00-483a-9bbd-87ea1187bb57",
   "metadata": {
    "tags": []
   },
   "outputs": [
    {
     "data": {
      "text/plain": [
       "['44.sql',\n",
       " '145.sql',\n",
       " '128.sql',\n",
       " '99.sql',\n",
       " '23.sql',\n",
       " '101.sql',\n",
       " '7.sql',\n",
       " '5.sql',\n",
       " '17.sql',\n",
       " '116.sql',\n",
       " '67.sql',\n",
       " '119.sql',\n",
       " '69.sql',\n",
       " '94.sql',\n",
       " '135.sql',\n",
       " '107.sql',\n",
       " '3.sql',\n",
       " '103.sql',\n",
       " '78.sql',\n",
       " '83.sql',\n",
       " '25.sql',\n",
       " '118.sql',\n",
       " '26.sql',\n",
       " '129.sql',\n",
       " '37.sql',\n",
       " '87.sql',\n",
       " '38.sql',\n",
       " '142.sql',\n",
       " '113.sql']"
      ]
     },
     "execution_count": 3,
     "metadata": {},
     "output_type": "execute_result"
    }
   ],
   "source": [
    "stats_rand_queries"
   ]
  },
  {
   "cell_type": "code",
   "execution_count": null,
   "id": "a09f9159-cf81-473f-b866-f928b00eeffa",
   "metadata": {
    "tags": []
   },
   "outputs": [
    {
     "name": "stdout",
     "output_type": "stream",
     "text": [
      "Executing sql:  ['44.sql', '145.sql', '128.sql', '99.sql', '23.sql', '101.sql', '7.sql', '5.sql', '17.sql', '116.sql', '67.sql', '119.sql', '69.sql', '94.sql', '135.sql', '107.sql', '3.sql', '103.sql', '78.sql', '83.sql', '25.sql', '118.sql', '26.sql', '129.sql', '37.sql', '87.sql', '38.sql', '142.sql', '113.sql']\n",
      "INFO:root:Evaluating 44.sql.\n",
      "WARNING:root:mergejoin join is disabled. \n",
      "INFO:root:\tFinished the 1-th trial with total: 0.15 secs, (prep: 0.04, exec: 0.11)\n",
      "WARNING:root:mergejoin join is disabled. \n",
      "INFO:root:\tFinished the 2-th trial with total: 0.15 secs, (prep: 0.04, exec: 0.11)\n",
      "INFO:root:Evaluating 145.sql.\n",
      "WARNING:root:mergejoin join is disabled. \n",
      "INFO:root:\tFinished the 1-th trial with total: 0.18 secs, (prep: 0.05, exec: 0.11)\n",
      "WARNING:root:mergejoin join is disabled. \n",
      "INFO:root:\tFinished the 2-th trial with total: 0.18 secs, (prep: 0.05, exec: 0.12)\n",
      "INFO:root:Evaluating 128.sql.\n",
      "WARNING:root:mergejoin join is disabled. \n",
      "INFO:root:\tFinished the 1-th trial with total: 0.26 secs, (prep: 0.07, exec: 0.17)\n",
      "WARNING:root:mergejoin join is disabled. \n",
      "INFO:root:\tFinished the 2-th trial with total: 0.26 secs, (prep: 0.07, exec: 0.18)\n",
      "INFO:root:Evaluating 99.sql.\n",
      "WARNING:root:mergejoin join is disabled. \n",
      "INFO:root:\tFinished the 1-th trial with total: 0.09 secs, (prep: 0.00, exec: 0.09)\n",
      "WARNING:root:mergejoin join is disabled. \n",
      "INFO:root:\tFinished the 2-th trial with total: 0.09 secs, (prep: 0.00, exec: 0.09)\n",
      "INFO:root:Evaluating 23.sql.\n",
      "WARNING:root:mergejoin join is disabled. \n",
      "INFO:root:\tFinished the 1-th trial with total: 0.07 secs, (prep: 0.00, exec: 0.07)\n",
      "WARNING:root:mergejoin join is disabled. \n",
      "INFO:root:\tFinished the 2-th trial with total: 0.05 secs, (prep: 0.00, exec: 0.05)\n",
      "INFO:root:Evaluating 101.sql.\n",
      "WARNING:root:mergejoin join is disabled. \n",
      "INFO:root:\tFinished the 1-th trial with total: 0.13 secs, (prep: 0.04, exec: 0.08)\n",
      "WARNING:root:mergejoin join is disabled. \n",
      "INFO:root:\tFinished the 2-th trial with total: 0.12 secs, (prep: 0.04, exec: 0.08)\n",
      "INFO:root:Evaluating 7.sql.\n",
      "WARNING:root:mergejoin join is disabled. \n",
      "INFO:root:\tFinished the 1-th trial with total: 0.16 secs, (prep: 0.00, exec: 0.16)\n",
      "WARNING:root:mergejoin join is disabled. \n",
      "INFO:root:\tFinished the 2-th trial with total: 0.15 secs, (prep: 0.00, exec: 0.15)\n",
      "INFO:root:Evaluating 5.sql.\n",
      "WARNING:root:mergejoin join is disabled. \n",
      "INFO:root:\tFinished the 1-th trial with total: 1.05 secs, (prep: 0.00, exec: 1.05)\n",
      "WARNING:root:mergejoin join is disabled. \n",
      "INFO:root:\tFinished the 2-th trial with total: 0.99 secs, (prep: 0.00, exec: 0.99)\n",
      "INFO:root:Evaluating 17.sql.\n",
      "WARNING:root:mergejoin join is disabled. \n",
      "INFO:root:\tFinished the 1-th trial with total: 0.02 secs, (prep: 0.00, exec: 0.02)\n",
      "WARNING:root:mergejoin join is disabled. \n",
      "INFO:root:\tFinished the 2-th trial with total: 0.02 secs, (prep: 0.00, exec: 0.02)\n",
      "INFO:root:Evaluating 116.sql.\n",
      "WARNING:root:mergejoin join is disabled. \n",
      "INFO:root:\tFinished the 1-th trial with total: 0.07 secs, (prep: 0.00, exec: 0.06)\n",
      "WARNING:root:mergejoin join is disabled. \n",
      "INFO:root:\tFinished the 2-th trial with total: 0.07 secs, (prep: 0.00, exec: 0.06)\n",
      "INFO:root:Evaluating 67.sql.\n",
      "WARNING:root:mergejoin join is disabled. \n",
      "INFO:root:\tFinished the 1-th trial with total: 0.06 secs, (prep: 0.02, exec: 0.02)\n",
      "WARNING:root:mergejoin join is disabled. \n",
      "INFO:root:\tFinished the 2-th trial with total: 0.06 secs, (prep: 0.02, exec: 0.03)\n",
      "INFO:root:Evaluating 119.sql.\n",
      "WARNING:root:mergejoin join is disabled. \n",
      "INFO:root:\tFinished the 1-th trial with total: 0.41 secs, (prep: 0.06, exec: 0.32)\n",
      "WARNING:root:mergejoin join is disabled. \n",
      "INFO:root:\tFinished the 2-th trial with total: 0.42 secs, (prep: 0.06, exec: 0.32)\n",
      "INFO:root:Evaluating 69.sql.\n",
      "WARNING:root:mergejoin join is disabled. \n",
      "INFO:root:\tFinished the 1-th trial with total: 12.66 secs, (prep: 0.04, exec: 12.62)\n",
      "WARNING:root:mergejoin join is disabled. \n",
      "INFO:root:\tFinished the 2-th trial with total: 12.31 secs, (prep: 0.04, exec: 12.27)\n",
      "INFO:root:Evaluating 94.sql.\n",
      "WARNING:root:mergejoin join is disabled. \n",
      "INFO:root:\tFinished the 1-th trial with total: 0.11 secs, (prep: 0.00, exec: 0.11)\n",
      "WARNING:root:mergejoin join is disabled. \n",
      "INFO:root:\tFinished the 2-th trial with total: 0.10 secs, (prep: 0.00, exec: 0.10)\n",
      "INFO:root:Evaluating 135.sql.\n",
      "WARNING:root:mergejoin join is disabled. \n",
      "INFO:root:\tFinished the 1-th trial with total: 73.46 secs, (prep: 0.03, exec: 73.41)\n",
      "WARNING:root:mergejoin join is disabled. \n",
      "INFO:root:\tFinished the 2-th trial with total: 72.19 secs, (prep: 0.03, exec: 72.15)\n",
      "INFO:root:Evaluating 107.sql.\n",
      "WARNING:root:mergejoin join is disabled. \n",
      "INFO:root:\tFinished the 1-th trial with total: 17.35 secs, (prep: 0.02, exec: 17.32)\n",
      "WARNING:root:mergejoin join is disabled. \n"
     ]
    }
   ],
   "source": [
    "engine_name = 'postgres_pg_lip'\n",
    "db_name = 'stats'\n",
    "query_dir = '/mnt/workspace/adaptiveness_vs_learning/queries/stats/LIP+AJA/stats_rand/'\n",
    "init_sql_file= '/mnt/workspace/adaptiveness_vs_learning/queries/lip_bloom_init.sql'\n",
    "run_queries = stats_rand_queries\n",
    "\n",
    "pg_db = DB_instance(engine_name, db_name, )\n",
    "pg_ev = PG_LIP_Runtime_Evaluator(pg_db, query_dir, init_sql_file=init_sql_file)\n",
    "pg_ev.evaluate_queries(\n",
    "    sql_dir=query_dir,\n",
    "    save_json_file=f'./{engine_name}_LIP+AJA_{db_name}_runtimes.json', \n",
    "    sql_files=run_queries,\n",
    "    rerun_finished=True,\n",
    "    multiple_runs=2, \n",
    "    save_plan=False,\n",
    "    disable_op=\"mergejoin\",\n",
    ")"
   ]
  },
  {
   "cell_type": "code",
   "execution_count": null,
   "id": "d10ba863-ec86-42a3-be9e-8a7928d720cf",
   "metadata": {
    "tags": []
   },
   "outputs": [],
   "source": [
    "import json\n",
    "import numpy as np\n",
    "logs = json.load(open(f'./{engine_name}_LIP+AJA_{db_name}_runtimes.json'))\n",
    "total_runtimes = 0\n",
    "for q in logs:\n",
    "    time = np.average([t[1] + t[2] for t in logs[q]])\n",
    "    total_runtimes += time\n",
    "print(f\"Total workload time ({len(logs)} queries): \", total_runtimes)"
   ]
  },
  {
   "cell_type": "code",
   "execution_count": null,
   "id": "b53677b1-08ec-4135-9ded-53647085abeb",
   "metadata": {},
   "outputs": [],
   "source": []
  }
 ],
 "metadata": {
  "kernelspec": {
   "display_name": "balsa",
   "language": "python",
   "name": "balsa"
  },
  "language_info": {
   "codemirror_mode": {
    "name": "ipython",
    "version": 3
   },
   "file_extension": ".py",
   "mimetype": "text/x-python",
   "name": "python",
   "nbconvert_exporter": "python",
   "pygments_lexer": "ipython3",
   "version": "3.7.16"
  }
 },
 "nbformat": 4,
 "nbformat_minor": 5
}
