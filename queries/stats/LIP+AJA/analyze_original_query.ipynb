{
 "cells": [
  {
   "cell_type": "code",
   "execution_count": 4,
   "id": "c9ad1197-343e-4dcb-96ce-a060859840a5",
   "metadata": {
    "tags": []
   },
   "outputs": [
    {
     "name": "stdout",
     "output_type": "stream",
     "text": [
      "The autoreload extension is already loaded. To reload it, use:\n",
      "  %reload_ext autoreload\n"
     ]
    }
   ],
   "source": [
    "# %load_ext autoreload\n",
    "# %autoreload 2\n",
    "\n",
    "PATH = '/mnt/adaptiveness_vs_learning/runtime_eval/'\n",
    "import sys\n",
    "sys.path.append(PATH)\n",
    "from core.eval_Runtime import *"
   ]
  },
  {
   "cell_type": "code",
   "execution_count": 5,
   "id": "8fd373ca-c6ac-41d7-9117-5e796c4b4307",
   "metadata": {
    "tags": []
   },
   "outputs": [],
   "source": [
    "query_dirs = {\n",
    "    'pg_stats_all': '/mnt/adaptiveness_vs_learning/queries/stats/original/all/',\n",
    "    'pg_stats_lip+aja_slow': '/mnt/adaptiveness_vs_learning/queries/stats/LIP+AJA/stats_slow/',\n",
    "}\n",
    "\n",
    "stats_all_queries = [f'{i+1}.sql' for i in range(146)]\n",
    "stats_slow_queries = ['105.sql',\n",
    " '107.sql',\n",
    " '108.sql',\n",
    " '115.sql',\n",
    " '120.sql',\n",
    " '122.sql',\n",
    " '123.sql',\n",
    " '126.sql',\n",
    " '134.sql',\n",
    " '135.sql',\n",
    " '136.sql',\n",
    " '138.sql',\n",
    " '140.sql',\n",
    " '141.sql',\n",
    " '142.sql',\n",
    " '143.sql',\n",
    " '30.sql',\n",
    " '34.sql',\n",
    " '38.sql',\n",
    " '49.sql',\n",
    " '51.sql',\n",
    " '52.sql',\n",
    " '56.sql',\n",
    " '58.sql',\n",
    " '59.sql',\n",
    " '68.sql',\n",
    " '69.sql',\n",
    " '70.sql',\n",
    " '71.sql']"
   ]
  },
  {
   "cell_type": "code",
   "execution_count": null,
   "id": "163915be-bf00-483a-9bbd-87ea1187bb57",
   "metadata": {
    "tags": []
   },
   "outputs": [],
   "source": []
  },
  {
   "cell_type": "code",
   "execution_count": null,
   "id": "a09f9159-cf81-473f-b866-f928b00eeffa",
   "metadata": {
    "tags": []
   },
   "outputs": [
    {
     "name": "stdout",
     "output_type": "stream",
     "text": [
      "Executing sql:  ['105.sql', '107.sql', '108.sql', '115.sql', '120.sql', '122.sql', '123.sql', '126.sql', '134.sql', '135.sql', '136.sql', '138.sql', '140.sql', '141.sql', '142.sql', '143.sql', '30.sql', '34.sql', '38.sql', '49.sql', '51.sql', '52.sql', '56.sql', '58.sql', '59.sql', '68.sql', '69.sql', '70.sql', '71.sql']\n",
      "INFO:root:Evaluating 105.sql.\n",
      "WARNING:root:mergejoin join is disabled. \n",
      "INFO:root:\tFinished the 1-th trial with total: 7.46 secs, (prep: 0.06, exec: 7.38)\n",
      "WARNING:root:mergejoin join is disabled. \n",
      "INFO:root:\tFinished the 2-th trial with total: 7.55 secs, (prep: 0.05, exec: 7.48)\n",
      "INFO:root:Evaluating 107.sql.\n",
      "WARNING:root:mergejoin join is disabled. \n"
     ]
    }
   ],
   "source": [
    "engine_name = 'postgres_pg_lip'\n",
    "db_name = 'stats'\n",
    "query_dir = '/mnt/adaptiveness_vs_learning/queries/stats/LIP+AJA/stats_slow/'\n",
    "init_sql_file= '/mnt/adaptiveness_vs_learning/queries/lip_bloom_init.sql'\n",
    "run_queries = stats_slow_queries\n",
    "\n",
    "pg_db = DB_instance(engine_name, db_name)\n",
    "pg_ev = PG_LIP_Runtime_Evaluator(pg_db, query_dir, init_sql_file=init_sql_file)\n",
    "pg_ev.evaluate_queries(\n",
    "    sql_dir=query_dir,\n",
    "    save_json_file=f'./{engine_name}_LIP+AJA_{db_name}_runtimes.json', \n",
    "    sql_files=run_queries,\n",
    "    rerun_finished=False,\n",
    "    multiple_runs=2, \n",
    "    save_plan=False,\n",
    "    disable_op=\"mergejoin\",\n",
    ")"
   ]
  },
  {
   "cell_type": "code",
   "execution_count": null,
   "id": "d10ba863-ec86-42a3-be9e-8a7928d720cf",
   "metadata": {
    "tags": []
   },
   "outputs": [],
   "source": [
    "import json\n",
    "import numpy as np\n",
    "logs = json.load(open(f'./{engine_name}_LIP+AJA_{db_name}_runtimes.json'))\n",
    "total_runtimes = 0\n",
    "for q in logs:\n",
    "    time = np.average([t[1] + t[2] for t in logs[q]])\n",
    "    total_runtimes += time\n",
    "print(f\"Total workload time ({len(logs)} queries): \", total_runtimes)"
   ]
  },
  {
   "cell_type": "code",
   "execution_count": null,
   "id": "b53677b1-08ec-4135-9ded-53647085abeb",
   "metadata": {},
   "outputs": [],
   "source": []
  }
 ],
 "metadata": {
  "kernelspec": {
   "display_name": "Python (balsa)",
   "language": "python",
   "name": "balsa"
  },
  "language_info": {
   "codemirror_mode": {
    "name": "ipython",
    "version": 3
   },
   "file_extension": ".py",
   "mimetype": "text/x-python",
   "name": "python",
   "nbconvert_exporter": "python",
   "pygments_lexer": "ipython3",
   "version": "3.7.16"
  }
 },
 "nbformat": 4,
 "nbformat_minor": 5
}
