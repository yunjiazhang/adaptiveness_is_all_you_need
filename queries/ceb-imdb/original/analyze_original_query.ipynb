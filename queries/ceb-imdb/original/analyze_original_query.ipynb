{
 "cells": [
  {
   "cell_type": "code",
   "execution_count": 1,
   "id": "c9ad1197-343e-4dcb-96ce-a060859840a5",
   "metadata": {
    "tags": []
   },
   "outputs": [],
   "source": [
    "# %load_ext autoreload\n",
    "# %autoreload 2\n",
    "PATH = '/mnt/adaptiveness_vs_learning/runtime_eval/'\n",
    "import sys\n",
    "sys.path.append(PATH)\n",
    "from core.eval_Runtime import *"
   ]
  },
  {
   "cell_type": "code",
   "execution_count": 3,
   "id": "163915be-bf00-483a-9bbd-87ea1187bb57",
   "metadata": {
    "tags": []
   },
   "outputs": [],
   "source": [
    "import sqlparse\n",
    "\n",
    "def sql_formater(sql):\n",
    "    return sqlparse.format(sql, reindent=True, keyword_case='upper')"
   ]
  },
  {
   "cell_type": "code",
   "execution_count": 9,
   "id": "a09f9159-cf81-473f-b866-f928b00eeffa",
   "metadata": {
    "tags": []
   },
   "outputs": [
    {
     "name": "stdout",
     "output_type": "stream",
     "text": [
      "INFO:root:Evaluating 1a_78.sql.\n",
      "WARNING:root:mergejoin join is disabled. \n",
      "INFO:root:\tFinished the 1-th trial with 4.37 secs\n",
      "WARNING:root:mergejoin join is disabled. \n",
      "INFO:root:\tFinished the 2-th trial with 0.59 secs\n",
      "INFO:root:\tAvg runtime = 2.48 secs\n",
      "INFO:root:Evaluating 6a_154.sql.\n",
      "WARNING:root:mergejoin join is disabled. \n"
     ]
    },
    {
     "ename": "KeyboardInterrupt",
     "evalue": "",
     "output_type": "error",
     "traceback": [
      "\u001b[0;31m---------------------------------------------------------------------------\u001b[0m",
      "\u001b[0;31mKeyboardInterrupt\u001b[0m                         Traceback (most recent call last)",
      "\u001b[0;32m/tmp/ipykernel_91/4119177829.py\u001b[0m in \u001b[0;36m<module>\u001b[0;34m\u001b[0m\n\u001b[1;32m     15\u001b[0m     \u001b[0mmultiple_runs\u001b[0m\u001b[0;34m=\u001b[0m\u001b[0;36m2\u001b[0m\u001b[0;34m,\u001b[0m\u001b[0;34m\u001b[0m\u001b[0;34m\u001b[0m\u001b[0m\n\u001b[1;32m     16\u001b[0m     \u001b[0msave_plan\u001b[0m\u001b[0;34m=\u001b[0m\u001b[0;32mFalse\u001b[0m\u001b[0;34m,\u001b[0m\u001b[0;34m\u001b[0m\u001b[0;34m\u001b[0m\u001b[0m\n\u001b[0;32m---> 17\u001b[0;31m     \u001b[0mtimeout\u001b[0m\u001b[0;34m=\u001b[0m\u001b[0;36m6000\u001b[0m\u001b[0;34m\u001b[0m\u001b[0;34m\u001b[0m\u001b[0m\n\u001b[0m\u001b[1;32m     18\u001b[0m )\n",
      "\u001b[0;32m/mnt/adaptiveness_vs_learning/runtime_eval/core/eval_Runtime.py\u001b[0m in \u001b[0;36mevaluate_queries\u001b[0;34m(self, sql_dir, max_sql_num, sql_files, save_json_file, multiple_runs, rerun_finished, skip_queries, timeout, disable_lip, disable_parallel, save_plan, disable_op, save_plan_subdir)\u001b[0m\n\u001b[1;32m     63\u001b[0m                 \u001b[0;31m# else:\u001b[0m\u001b[0;34m\u001b[0m\u001b[0;34m\u001b[0m\u001b[0;34m\u001b[0m\u001b[0m\n\u001b[1;32m     64\u001b[0m                 \u001b[0;31m#     show_plan = False\u001b[0m\u001b[0;34m\u001b[0m\u001b[0;34m\u001b[0m\u001b[0;34m\u001b[0m\u001b[0m\n\u001b[0;32m---> 65\u001b[0;31m                 \u001b[0mq\u001b[0m \u001b[0;34m=\u001b[0m \u001b[0mself\u001b[0m\u001b[0;34m.\u001b[0m\u001b[0mdb_instance\u001b[0m\u001b[0;34m.\u001b[0m\u001b[0mexecute\u001b[0m\u001b[0;34m(\u001b[0m\u001b[0msql\u001b[0m\u001b[0;34m,\u001b[0m \u001b[0mtimeout\u001b[0m\u001b[0;34m=\u001b[0m\u001b[0mtimeout\u001b[0m\u001b[0;34m,\u001b[0m \u001b[0mdisable_lip\u001b[0m\u001b[0;34m=\u001b[0m\u001b[0mdisable_lip\u001b[0m\u001b[0;34m,\u001b[0m \u001b[0mshow_plan\u001b[0m\u001b[0;34m=\u001b[0m\u001b[0msave_plan\u001b[0m\u001b[0;34m,\u001b[0m \u001b[0mdisable_parallel\u001b[0m\u001b[0;34m=\u001b[0m\u001b[0mdisable_parallel\u001b[0m\u001b[0;34m,\u001b[0m \u001b[0mdisable_op\u001b[0m\u001b[0;34m=\u001b[0m\u001b[0mdisable_op\u001b[0m\u001b[0;34m)\u001b[0m\u001b[0;34m\u001b[0m\u001b[0;34m\u001b[0m\u001b[0m\n\u001b[0m\u001b[1;32m     66\u001b[0m                 \u001b[0mend_timestamp\u001b[0m \u001b[0;34m=\u001b[0m \u001b[0mtime\u001b[0m\u001b[0;34m.\u001b[0m\u001b[0mtime\u001b[0m\u001b[0;34m(\u001b[0m\u001b[0;34m)\u001b[0m\u001b[0;34m\u001b[0m\u001b[0;34m\u001b[0m\u001b[0m\n\u001b[1;32m     67\u001b[0m                 \u001b[0;32mif\u001b[0m \u001b[0mq\u001b[0m\u001b[0;34m[\u001b[0m\u001b[0;34m'execution_cost'\u001b[0m\u001b[0;34m]\u001b[0m \u001b[0;34m<\u001b[0m \u001b[0;36m0\u001b[0m\u001b[0;34m:\u001b[0m\u001b[0;34m\u001b[0m\u001b[0;34m\u001b[0m\u001b[0m\n",
      "\u001b[0;32m/mnt/adaptiveness_vs_learning/runtime_eval/core/DB_connector.py\u001b[0m in \u001b[0;36mexecute\u001b[0;34m(self, query, timeout, disable_lip, show_plan, disable_parallel, disable_op, set_env)\u001b[0m\n\u001b[1;32m    472\u001b[0m         return self.connector.execute(query, timeout=timeout, disable_lip=disable_lip, show_plan=show_plan, \n\u001b[1;32m    473\u001b[0m                                       \u001b[0mdisable_parallel\u001b[0m\u001b[0;34m=\u001b[0m\u001b[0mdisable_parallel\u001b[0m\u001b[0;34m,\u001b[0m\u001b[0;34m\u001b[0m\u001b[0;34m\u001b[0m\u001b[0m\n\u001b[0;32m--> 474\u001b[0;31m                                       disable_op=disable_op, set_env=set_env)\n\u001b[0m\u001b[1;32m    475\u001b[0m \u001b[0;34m\u001b[0m\u001b[0m\n\u001b[1;32m    476\u001b[0m     \u001b[0;32mdef\u001b[0m \u001b[0mexplain_card\u001b[0m\u001b[0;34m(\u001b[0m\u001b[0mself\u001b[0m\u001b[0;34m,\u001b[0m \u001b[0mquery\u001b[0m\u001b[0;34m)\u001b[0m\u001b[0;34m:\u001b[0m\u001b[0;34m\u001b[0m\u001b[0;34m\u001b[0m\u001b[0m\n",
      "\u001b[0;32m/mnt/adaptiveness_vs_learning/runtime_eval/core/DB_connector.py\u001b[0m in \u001b[0;36mexecute\u001b[0;34m(self, query, set_env, timeout, disable_lip, show_plan, disable_parallel, disable_op)\u001b[0m\n\u001b[1;32m    142\u001b[0m             \u001b[0;31m# else:\u001b[0m\u001b[0;34m\u001b[0m\u001b[0;34m\u001b[0m\u001b[0;34m\u001b[0m\u001b[0m\n\u001b[1;32m    143\u001b[0m \u001b[0;34m\u001b[0m\u001b[0m\n\u001b[0;32m--> 144\u001b[0;31m             \u001b[0mres\u001b[0m \u001b[0;34m=\u001b[0m \u001b[0mself\u001b[0m\u001b[0;34m.\u001b[0m\u001b[0mdb\u001b[0m\u001b[0;34m.\u001b[0m\u001b[0mexecute\u001b[0m\u001b[0;34m(\u001b[0m\u001b[0mquery\u001b[0m\u001b[0;34m,\u001b[0m \u001b[0mset_env\u001b[0m\u001b[0;34m=\u001b[0m\u001b[0;32mTrue\u001b[0m\u001b[0;34m)\u001b[0m\u001b[0;34m\u001b[0m\u001b[0;34m\u001b[0m\u001b[0m\n\u001b[0m\u001b[1;32m    145\u001b[0m             \u001b[0mend_time\u001b[0m \u001b[0;34m=\u001b[0m \u001b[0mtime\u001b[0m\u001b[0;34m.\u001b[0m\u001b[0mtime\u001b[0m\u001b[0;34m(\u001b[0m\u001b[0;34m)\u001b[0m\u001b[0;34m\u001b[0m\u001b[0;34m\u001b[0m\u001b[0m\n\u001b[1;32m    146\u001b[0m \u001b[0;34m\u001b[0m\u001b[0m\n",
      "\u001b[0;32m/mnt/adaptiveness_vs_learning/runtime_eval/core/cardinality_estimation_quality/cardinality_estimation_quality.py\u001b[0m in \u001b[0;36mexecute\u001b[0;34m(self, query, set_env)\u001b[0m\n\u001b[1;32m     45\u001b[0m         cursor = self._connection.cursor(\n\u001b[1;32m     46\u001b[0m             cursor_factory=psycopg2.extras.DictCursor)\n\u001b[0;32m---> 47\u001b[0;31m         \u001b[0mcursor\u001b[0m\u001b[0;34m.\u001b[0m\u001b[0mexecute\u001b[0m\u001b[0;34m(\u001b[0m\u001b[0mquery\u001b[0m\u001b[0;34m)\u001b[0m\u001b[0;34m\u001b[0m\u001b[0;34m\u001b[0m\u001b[0m\n\u001b[0m\u001b[1;32m     48\u001b[0m         \u001b[0;32mif\u001b[0m \u001b[0;32mnot\u001b[0m \u001b[0mset_env\u001b[0m\u001b[0;34m:\u001b[0m\u001b[0;34m\u001b[0m\u001b[0;34m\u001b[0m\u001b[0m\n\u001b[1;32m     49\u001b[0m             \u001b[0;32mreturn\u001b[0m \u001b[0mcursor\u001b[0m\u001b[0;34m.\u001b[0m\u001b[0mfetchall\u001b[0m\u001b[0;34m(\u001b[0m\u001b[0;34m)\u001b[0m\u001b[0;34m\u001b[0m\u001b[0;34m\u001b[0m\u001b[0m\n",
      "\u001b[0;32m~/anaconda3/envs/balsa/lib/python3.7/site-packages/psycopg2/extras.py\u001b[0m in \u001b[0;36mexecute\u001b[0;34m(self, query, vars)\u001b[0m\n\u001b[1;32m    144\u001b[0m         \u001b[0mself\u001b[0m\u001b[0;34m.\u001b[0m\u001b[0mindex\u001b[0m \u001b[0;34m=\u001b[0m \u001b[0mOrderedDict\u001b[0m\u001b[0;34m(\u001b[0m\u001b[0;34m)\u001b[0m\u001b[0;34m\u001b[0m\u001b[0;34m\u001b[0m\u001b[0m\n\u001b[1;32m    145\u001b[0m         \u001b[0mself\u001b[0m\u001b[0;34m.\u001b[0m\u001b[0m_query_executed\u001b[0m \u001b[0;34m=\u001b[0m \u001b[0;32mTrue\u001b[0m\u001b[0;34m\u001b[0m\u001b[0;34m\u001b[0m\u001b[0m\n\u001b[0;32m--> 146\u001b[0;31m         \u001b[0;32mreturn\u001b[0m \u001b[0msuper\u001b[0m\u001b[0;34m(\u001b[0m\u001b[0;34m)\u001b[0m\u001b[0;34m.\u001b[0m\u001b[0mexecute\u001b[0m\u001b[0;34m(\u001b[0m\u001b[0mquery\u001b[0m\u001b[0;34m,\u001b[0m \u001b[0mvars\u001b[0m\u001b[0;34m)\u001b[0m\u001b[0;34m\u001b[0m\u001b[0;34m\u001b[0m\u001b[0m\n\u001b[0m\u001b[1;32m    147\u001b[0m \u001b[0;34m\u001b[0m\u001b[0m\n\u001b[1;32m    148\u001b[0m     \u001b[0;32mdef\u001b[0m \u001b[0mcallproc\u001b[0m\u001b[0;34m(\u001b[0m\u001b[0mself\u001b[0m\u001b[0;34m,\u001b[0m \u001b[0mprocname\u001b[0m\u001b[0;34m,\u001b[0m \u001b[0mvars\u001b[0m\u001b[0;34m=\u001b[0m\u001b[0;32mNone\u001b[0m\u001b[0;34m)\u001b[0m\u001b[0;34m:\u001b[0m\u001b[0;34m\u001b[0m\u001b[0;34m\u001b[0m\u001b[0m\n",
      "\u001b[0;32m~/anaconda3/envs/balsa/lib/python3.7/encodings/utf_8.py\u001b[0m in \u001b[0;36mdecode\u001b[0;34m(input, errors)\u001b[0m\n\u001b[1;32m     13\u001b[0m \u001b[0mencode\u001b[0m \u001b[0;34m=\u001b[0m \u001b[0mcodecs\u001b[0m\u001b[0;34m.\u001b[0m\u001b[0mutf_8_encode\u001b[0m\u001b[0;34m\u001b[0m\u001b[0;34m\u001b[0m\u001b[0m\n\u001b[1;32m     14\u001b[0m \u001b[0;34m\u001b[0m\u001b[0m\n\u001b[0;32m---> 15\u001b[0;31m \u001b[0;32mdef\u001b[0m \u001b[0mdecode\u001b[0m\u001b[0;34m(\u001b[0m\u001b[0minput\u001b[0m\u001b[0;34m,\u001b[0m \u001b[0merrors\u001b[0m\u001b[0;34m=\u001b[0m\u001b[0;34m'strict'\u001b[0m\u001b[0;34m)\u001b[0m\u001b[0;34m:\u001b[0m\u001b[0;34m\u001b[0m\u001b[0;34m\u001b[0m\u001b[0m\n\u001b[0m\u001b[1;32m     16\u001b[0m     \u001b[0;32mreturn\u001b[0m \u001b[0mcodecs\u001b[0m\u001b[0;34m.\u001b[0m\u001b[0mutf_8_decode\u001b[0m\u001b[0;34m(\u001b[0m\u001b[0minput\u001b[0m\u001b[0;34m,\u001b[0m \u001b[0merrors\u001b[0m\u001b[0;34m,\u001b[0m \u001b[0;32mTrue\u001b[0m\u001b[0;34m)\u001b[0m\u001b[0;34m\u001b[0m\u001b[0;34m\u001b[0m\u001b[0m\n\u001b[1;32m     17\u001b[0m \u001b[0;34m\u001b[0m\u001b[0m\n",
      "\u001b[0;31mKeyboardInterrupt\u001b[0m: "
     ]
    }
   ],
   "source": [
    "engine_name = 'postgres'\n",
    "db_name = 'imdbload'\n",
    "query_dir = './all/'\n",
    "run_queries = sorted([q for q in os.listdir(query_dir) if '.sql' in q])\n",
    "\n",
    "pg_db = DB_instance(engine_name, db_name)\n",
    "pg_ev = Runtime_Evaluator(pg_db, query_dir)\n",
    "pg_ev.evaluate_queries(\n",
    "    sql_dir=query_dir,\n",
    "    sql_files=run_queries,\n",
    "    save_json_file=f'./{engine_name}_{db_name}_runtimes.json', \n",
    "    rerun_finished=False,\n",
    "    disable_op=\"mergejoin\",\n",
    "    disable_parallel=False,\n",
    "    multiple_runs=2,\n",
    "    save_plan=False,\n",
    "    timeout=6000\n",
    ")"
   ]
  },
  {
   "cell_type": "code",
   "execution_count": 14,
   "id": "d10ba863-ec86-42a3-be9e-8a7928d720cf",
   "metadata": {
    "tags": []
   },
   "outputs": [],
   "source": [
    "# import json\n",
    "# runtimes = json.load(open(\"./postgres_stats_runtimes.json\", 'r'))"
   ]
  },
  {
   "cell_type": "code",
   "execution_count": 15,
   "id": "c66fb0c7-17ea-4cbc-8251-9614eed79cf8",
   "metadata": {
    "tags": []
   },
   "outputs": [],
   "source": [
    "# import numpy as np\n",
    "# runtimes = {q_name: np.average(runtimes[q_name]) for q_name in runtimes}"
   ]
  },
  {
   "cell_type": "code",
   "execution_count": 2,
   "id": "b3becce0-58da-4b51-9b49-116661e009cc",
   "metadata": {
    "tags": []
   },
   "outputs": [],
   "source": [
    "# sorted_dict = dict(sorted(runtimes.items(), key=lambda item: -item[1]))\n",
    "# sorted_dict"
   ]
  },
  {
   "cell_type": "code",
   "execution_count": 17,
   "id": "e509feac-8a67-473f-97c3-075279540ec6",
   "metadata": {
    "tags": []
   },
   "outputs": [],
   "source": [
    "# query_num = len(sorted_dict)\n",
    "# query_set_num = int(0.2*query_num)\n",
    "# slow_queries = list(sorted_dict.keys())[:query_set_num]\n",
    "\n",
    "# # import random\n",
    "# # random.seed(0)\n",
    "# # random_queries = random.sample(list(sorted_dict.keys()), query_set_num)\n",
    "# random_queries = ['44.sql', '145.sql', '128.sql', '99.sql', '23.sql', '101.sql', '7.sql', '5.sql', '17.sql', '116.sql', '67.sql', '119.sql', '69.sql', '94.sql', '135.sql', '107.sql', '3.sql', '103.sql', '78.sql', '83.sql', '25.sql', '118.sql', '26.sql', '129.sql', '37.sql', '87.sql', '38.sql', '142.sql', '113.sql']"
   ]
  },
  {
   "cell_type": "code",
   "execution_count": 18,
   "id": "2fbbf7f8-ee21-468c-8662-265c13237b15",
   "metadata": {
    "tags": []
   },
   "outputs": [],
   "source": [
    "# import os\n",
    "\n",
    "# for q in random_queries:\n",
    "#     os.system(f'cp ./all/{q} ./stats_rand/')\n",
    "#     with open(f'./stats_rand/{q}', 'r') as f:\n",
    "#         sql = f.read()\n",
    "#     sql = sql_formater(sql)\n",
    "#     with open(f'./stats_rand/{q}', 'w') as g:\n",
    "#         g.write(sql)\n",
    "\n",
    "# for q in stats_all_queries:\n",
    "#     with open(f'./all/{q}', 'r') as f:\n",
    "#         sql = f.read()\n",
    "        \n",
    "#     sql = sql_formater(sql)\n",
    "#     if q in random_queries:\n",
    "#         with open(f'./balsa_stats_rand/t{q}', 'w') as g:\n",
    "#             g.write(sql)\n",
    "#     else:\n",
    "#         with open(f'./balsa_stats_rand/{q}', 'w') as g:\n",
    "#             g.write(sql)\n",
    "        \n",
    "# for q in slow_queries:\n",
    "#     os.system(f'cp ./all/{q} ./stats_slow/')\n",
    "#     with open(f'./stats_slow/{q}', 'r') as f:\n",
    "#         sql = f.read()\n",
    "#     sql = sql_formater(sql)\n",
    "#     with open(f'./stats_slow/{q}', 'w') as g:\n",
    "#         g.write(sql)\n",
    "\n",
    "# for q in stats_all_queries:\n",
    "#     with open(f'./all/{q}', 'r') as f:\n",
    "#         sql = f.read()\n",
    "#     sql = sql_formater(sql)\n",
    "#     if q in slow_queries:\n",
    "#         with open(f'./balsa_stats_slow/t{q}', 'w') as g:\n",
    "#             g.write(sql)\n",
    "#     else:\n",
    "#         with open(f'./balsa_stats_slow/{q}', 'w') as g:\n",
    "#             g.write(sql)"
   ]
  },
  {
   "cell_type": "code",
   "execution_count": 19,
   "id": "6a52d6ef-0fa1-4673-9c05-19d7dfda3860",
   "metadata": {
    "tags": []
   },
   "outputs": [
    {
     "name": "stdout",
     "output_type": "stream",
     "text": [
      "Stats slow total time:  3719.836777329445\n",
      "Stats rand total time:  149.78905951976776\n"
     ]
    }
   ],
   "source": [
    "# total_time = 0\n",
    "# for q in slow_queries:\n",
    "#     total_time += sorted_dict[q]\n",
    "# print(\"Stats slow total time: \", total_time)\n",
    "\n",
    "# total_time = 0\n",
    "# for q in random_queries:\n",
    "#     total_time += sorted_dict[q]\n",
    "# print(\"Stats rand total time: \", total_time)\n"
   ]
  },
  {
   "cell_type": "code",
   "execution_count": null,
   "id": "c562724e-9d89-4f2c-b6a6-541f5f712007",
   "metadata": {},
   "outputs": [],
   "source": []
  }
 ],
 "metadata": {
  "kernelspec": {
   "display_name": "balsa",
   "language": "python",
   "name": "balsa"
  },
  "language_info": {
   "codemirror_mode": {
    "name": "ipython",
    "version": 3
   },
   "file_extension": ".py",
   "mimetype": "text/x-python",
   "name": "python",
   "nbconvert_exporter": "python",
   "pygments_lexer": "ipython3",
   "version": "3.7.16"
  }
 },
 "nbformat": 4,
 "nbformat_minor": 5
}
